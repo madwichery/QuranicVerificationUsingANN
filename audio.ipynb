{
 "cells": [
  {
   "cell_type": "code",
   "execution_count": null,
   "metadata": {
    "collapsed": false,
    "pycharm": {
     "name": "#%%\n"
    }
   },
   "outputs": [],
   "source": [
    "import numpy as np\n",
    "\n",
    "from preprocess import *\n",
    "import keras\n",
    "from keras.models import Sequential\n",
    "from keras.layers import Dense, Dropout, Flatten\n",
    "from keras.utils import to_categorical\n",
    "import wandb\n",
    "from wandb.keras import WandbCallback\n",
    "import matplotlib.pyplot as plt"
   ]
  },
  {
   "cell_type": "code",
   "execution_count": null,
   "metadata": {},
   "outputs": [],
   "source": [
    "import wandb\n",
    "run = wandb.init()\n",
    "artifact = run.use_artifact('madwichery/audio-classification/audio_dataset:v0', type='balanced_data')\n",
    "artifact_dir = artifact.download()"
   ]
  },
  {
   "cell_type": "code",
   "execution_count": null,
   "metadata": {
    "collapsed": false,
    "pycharm": {
     "name": "#%%\n"
    }
   },
   "outputs": [],
   "source": [
    "project = \"audio-classification\"\n",
    "\n",
    "wandb.init(project=project)\n",
    "config = wandb.config\n",
    "config.max_len = 1000\n",
    "config.buckets = 20"
   ]
  },
  {
   "cell_type": "code",
   "execution_count": null,
   "metadata": {
    "collapsed": false,
    "pycharm": {
     "name": "#%%\n"
    }
   },
   "outputs": [],
   "source": [
    "# Save data to array file first\n",
    "save_data_to_array(max_len=config.max_len, n_mfcc=config.buckets)\n",
    "\n",
    "labels=[\"108001\",\n",
    "        \"108002\",\n",
    "        \"108003\",\n",
    "        \"109001\",\n",
    "        \"109002\",\n",
    "        \"109003\",\n",
    "        \"109004\",\n",
    "        \"109005\",\n",
    "        \"109006\",\n",
    "        \"110001\",\n",
    "        \"110002\",\n",
    "        \"110003\",\n",
    "        \"111001\",\n",
    "        \"111002\",\n",
    "        \"111003\",\n",
    "        \"111004\",\n",
    "        \"111005\",\n",
    "        \"112001\",\n",
    "        \"112002\",\n",
    "        \"112003\",\n",
    "        \"112004\",\n",
    "        \"113001\",\n",
    "        \"113002\",\n",
    "        \"113003\",\n",
    "        \"113004\",\n",
    "        \"113005\",\n",
    "        \"114001\",\n",
    "        \"114002\",\n",
    "        \"114003\",\n",
    "        \"114004\",\n",
    "        \"114005\",\n",
    "        \"114006\"]"
   ]
  },
  {
   "cell_type": "code",
   "execution_count": null,
   "metadata": {
    "collapsed": false,
    "pycharm": {
     "name": "#%%\n"
    }
   },
   "outputs": [],
   "source": [
    "# # Loading train set and test set\n",
    "X_train, X_test, y_train, y_test = get_train_test()"
   ]
  },
  {
   "cell_type": "code",
   "execution_count": null,
   "metadata": {
    "collapsed": false,
    "pycharm": {
     "name": "#%%\n"
    }
   },
   "outputs": [],
   "source": [
    "# # Feature dimension\n",
    "channels = 1\n",
    "config.epochs = 100\n",
    "config.batch_size = 1\n",
    "\n",
    "num_classes = 32\n",
    "\n",
    "X_train = X_train.reshape(X_train.shape[0], config.buckets, config.max_len, channels)\n",
    "X_test = X_test.reshape(X_test.shape[0], config.buckets, config.max_len, channels)"
   ]
  },
  {
   "cell_type": "code",
   "execution_count": null,
   "metadata": {
    "collapsed": false,
    "pycharm": {
     "name": "#%%\n"
    }
   },
   "outputs": [],
   "source": [
    "plt.imshow(X_train[10, :, :, 0])\n",
    "print(y_train[10])\n",
    "print(len(X_train))"
   ]
  },
  {
   "cell_type": "code",
   "execution_count": null,
   "metadata": {
    "collapsed": false,
    "pycharm": {
     "name": "#%%\n"
    }
   },
   "outputs": [],
   "source": [
    "y_train_hot = to_categorical(y_train)\n",
    "y_test_hot = to_categorical(y_test)"
   ]
  },
  {
   "cell_type": "code",
   "execution_count": null,
   "metadata": {
    "collapsed": false,
    "pycharm": {
     "name": "#%%\n"
    }
   },
   "outputs": [],
   "source": [
    "X_train = X_train.reshape(X_train.shape[0], config.buckets, config.max_len)\n",
    "X_test = X_test.reshape(X_test.shape[0], config.buckets, config.max_len)\n",
    "\n",
    "model = Sequential()\n",
    "\n",
    "# input layer\n",
    "model.add(Flatten(input_shape=(config.buckets, config.max_len)))\n",
    "\n",
    "# # 1st layer\n",
    "# keras.layers.Dense(512, activation='relu'),\n",
    "# keras.layers.Dropout(0.4),\n",
    "\n",
    "# # 2nd layer\n",
    "# keras.layers.Dense(256, activation='relu'),\n",
    "# keras.layers.Dropout(0.4),\n",
    "\n",
    "# # 3rd layer\n",
    "# keras.layers.Dense(64, activation='relu'),\n",
    "# keras.layers.Dropout(0.4),\n",
    "\n",
    "# ----\n",
    "\n",
    "# 1st for 1-layer\n",
    "# keras.layers.Dense(32, activation='relu'),\n",
    "# keras.layers.Dropout(0.4),\n",
    "\n",
    "# ----\n",
    "\n",
    "# 1st for 2-layer\n",
    "# keras.layers.Dense(64, activation='relu'),\n",
    "# keras.layers.Dropout(0.4),\n",
    "\n",
    "# 2nd for 2-layer\n",
    "# keras.layers.Dense(32, activation='relu'),\n",
    "# keras.layers.Dropout(0.4),\n",
    "\n",
    "# ---\n",
    "\n",
    "# 1st layer for 3-layer\n",
    "keras.layers.Dense(128, activation='relu'),\n",
    "keras.layers.Dropout(0.4),\n",
    "\n",
    "# 2nd layer for 3-layer\n",
    "keras.layers.Dense(64, activation='relu'),\n",
    "keras.layers.Dropout(0.4),\n",
    "\n",
    "# 3rd layer for 3-layer\n",
    "keras.layers.Dense(32, activation='relu'),\n",
    "keras.layers.Dropout(0.4),\n",
    "\n",
    "# ---\n",
    "\n",
    "# output layer\n",
    "model.add(Dense(num_classes, activation='softmax'))\n",
    "model.compile(loss=\"categorical_crossentropy\",\n",
    "                  optimizer=\"adam\",\n",
    "                  metrics=['accuracy'])"
   ]
  },
  {
   "cell_type": "code",
   "execution_count": null,
   "metadata": {
    "collapsed": false,
    "pycharm": {
     "name": "#%%\n"
    }
   },
   "outputs": [],
   "source": [
    "model.fit(X_train, y_train_hot, epochs=config.epochs, validation_data=(X_test, y_test_hot), callbacks=[WandbCallback(data_type=\"image\", labels=labels)])"
   ]
  }
 ],
 "metadata": {
  "kernelspec": {
   "display_name": "Python 3.8.13 ('mlclass')",
   "language": "python",
   "name": "python3"
  },
  "language_info": {
   "codemirror_mode": {
    "name": "ipython",
    "version": 3
   },
   "file_extension": ".py",
   "mimetype": "text/x-python",
   "name": "python",
   "nbconvert_exporter": "python",
   "pygments_lexer": "ipython3",
   "version": "3.8.16"
  },
  "orig_nbformat": 4,
  "vscode": {
   "interpreter": {
    "hash": "60918edb7b1bb236d044368aa4f0616d6250611f5b2d608c4c62fc8ac2df1e72"
   }
  }
 },
 "nbformat": 4,
 "nbformat_minor": 2
}
